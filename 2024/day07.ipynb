{
 "cells": [
  {
   "cell_type": "markdown",
   "source": [
    "<article class=\"day-desc\"><h2>--- Day 7: Bridge Repair ---</h2><p>The Historians take you to a familiar <a href=\"https://adventofcode.com/2022/day/9\">rope bridge</a> over a river in the middle of a jungle. The Chief isn't on this side of the bridge, though; maybe he's on the other side?</p>\n",
    "<p>When you go to cross the bridge, you notice a group of engineers trying to repair it. (Apparently, it breaks pretty frequently.) You won't be able to cross until it's fixed.</p>\n",
    "<p>You ask how long it'll take; the engineers tell you that it only needs final calibrations, but some young elephants were playing nearby and <em>stole all the operators</em> from their calibration equations! They could finish the calibrations if only someone could determine which test values could possibly be produced by placing any combination of operators into their calibration equations (your puzzle input).</p>\n",
    "<p>For example:</p>\n",
    "<pre><code>190: 10 19\n",
    "3267: 81 40 27\n",
    "83: 17 5\n",
    "156: 15 6\n",
    "7290: 6 8 6 15\n",
    "161011: 16 10 13\n",
    "192: 17 8 14\n",
    "21037: 9 7 18 13\n",
    "292: 11 6 16 20\n",
    "</code></pre>\n",
    "<p>Each line represents a single equation. The test value appears before the colon on each line; it is your job to determine whether the remaining numbers can be combined with operators to produce the test value.</p>\n",
    "<p>Operators are <em>always evaluated left-to-right</em>, <em>not</em> according to precedence rules. Furthermore, numbers in the equations cannot be rearranged. Glancing into the jungle, you can see elephants holding two different types of operators: <em>add</em> (<code>+</code>) and <em>multiply</em> (<code>*</code>).</p>\n",
    "<p>Only three of the above equations can be made true by inserting operators:</p>\n",
    "<ul>\n",
    "<li><code>190: 10 19</code> has only one position that accepts an operator: between <code>10</code> and <code>19</code>. Choosing <code>+</code> would give <code>29</code>, but choosing <code>*</code> would give the test value (<code>10 * 19 = 190</code>).</li>\n",
    "<li><code>3267: 81 40 27</code> has two positions for operators. Of the four possible configurations of the operators, <em>two</em> cause the right side to match the test value: <code>81 + 40 * 27</code> and <code>81 * 40 + 27</code> both equal <code>3267</code> (when evaluated left-to-right)!</li>\n",
    "<li><code>292: 11 6 16 20</code> can be solved in exactly one way: <code>11 + 6 * 16 + 20</code>.</li>\n",
    "</ul>\n",
    "<p>The engineers just need the <em>total calibration result</em>, which is the sum of the test values from just the equations that could possibly be true. In the above example, the sum of the test values for the three equations listed above is <code><em>3749</em></code>.</p>\n",
    "<p>Determine which equations could possibly be true. <em>What is their total calibration result?</em></p>\n",
    "</article>"
   ],
   "metadata": {
    "collapsed": false
   },
   "id": "62bfb8f9756f68a1"
  },
  {
   "cell_type": "code",
   "execution_count": 1,
   "outputs": [
    {
     "name": "stdout",
     "output_type": "stream",
     "text": [
      "Example: 3749 =? 3749\n",
      "Answer: 1298300076754\n"
     ]
    }
   ],
   "source": [
    "def read_equations(file_name):\n",
    "    for line in open(file_name, \"r\"):\n",
    "        answer, values = line.split(\":\")\n",
    "        yield int(answer), map(int, values.split())\n",
    "\n",
    "\n",
    "def calc(values, operators):\n",
    "    answers = []\n",
    "    a, b, *y = values\n",
    "    for fn in operators:\n",
    "        x = fn(a, b)\n",
    "        answers += calc([x] + y, operators) if y else [x]\n",
    "    return answers\n",
    "\n",
    "\n",
    "def sum_valid_equations(file_name, operators):\n",
    "    return sum(answer for answer, values in read_equations(file_name) if answer in calc(values, operators))\n",
    "\n",
    "\n",
    "operators = [\n",
    "    lambda x, y: x + y,\n",
    "    lambda x, y: x * y,\n",
    "]\n",
    "\n",
    "print(\"Example:\", sum_valid_equations(\"data/day07-example.txt\", operators), \"=? 3749\")\n",
    "print(\"Answer:\", sum_valid_equations(\"data/day07-data.txt\", operators))"
   ],
   "metadata": {
    "collapsed": false,
    "ExecuteTime": {
     "end_time": "2024-12-07T06:58:54.560304866Z",
     "start_time": "2024-12-07T06:58:54.411310617Z"
    }
   },
   "id": "2488e8522c20deb6"
  },
  {
   "cell_type": "markdown",
   "source": [
    "<article class=\"day-desc\"><h2 id=\"part2\">--- Part Two ---</h2><p>The engineers seem concerned; the total calibration result you gave them is nowhere close to being within safety tolerances. Just then, you spot your mistake: some well-hidden elephants are holding a <em>third type of operator</em>.</p>\n",
    "<p>The <a href=\"https://en.wikipedia.org/wiki/Concatenation\" target=\"_blank\">concatenation</a> operator (<code><span title=\"I think you mean &quot;.&quot;.\">||</span></code>) combines the digits from its left and right inputs into a single number. For example, <code>12 || 345</code> would become <code>12345</code>. All operators are still evaluated left-to-right.</p>\n",
    "<p>Now, apart from the three equations that could be made true using only addition and multiplication, the above example has three more equations that can be made true by inserting operators:</p>\n",
    "<ul>\n",
    "<li><code>156: 15 6</code> can be made true through a single concatenation: <code>15 || 6 = 156</code>.</li>\n",
    "<li><code>7290: 6 8 6 15</code> can be made true using <code>6 * 8 || 6 * 15</code>.</li>\n",
    "<li><code>192: 17 8 14</code> can be made true using <code>17 || 8 + 14</code>.</li>\n",
    "</ul>\n",
    "<p>Adding up all six test values (the three that could be made before using only <code>+</code> and <code>*</code> plus the new three that can now be made by also using <code>||</code>) produces the new <em>total calibration result</em> of <code><em>11387</em></code>.</p>\n",
    "<p>Using your new knowledge of elephant hiding spots, determine which equations could possibly be true. <em>What is their total calibration result?</em></p>\n",
    "</article>"
   ],
   "metadata": {
    "collapsed": false
   },
   "id": "e54c4fd0d2c2e76f"
  },
  {
   "cell_type": "code",
   "execution_count": 2,
   "outputs": [
    {
     "name": "stdout",
     "output_type": "stream",
     "text": [
      "Example: 11387 =? 11387\n",
      "Answer: 248427118972289\n"
     ]
    }
   ],
   "source": [
    "concat = lambda x, y: int(str(x) + str(y))\n",
    "\n",
    "print(\"Example:\", sum_valid_equations(\"data/day07-example.txt\", operators + [concat]), \"=? 11387\")\n",
    "print(\"Answer:\", sum_valid_equations(\"data/day07-data.txt\", operators + [concat]))"
   ],
   "metadata": {
    "collapsed": false,
    "ExecuteTime": {
     "end_time": "2024-12-07T06:59:01.751617030Z",
     "start_time": "2024-12-07T06:58:54.562249672Z"
    }
   },
   "id": "be88a979fe11ede0"
  }
 ],
 "metadata": {
  "kernelspec": {
   "display_name": "Python 3",
   "language": "python",
   "name": "python3"
  },
  "language_info": {
   "codemirror_mode": {
    "name": "ipython",
    "version": 2
   },
   "file_extension": ".py",
   "mimetype": "text/x-python",
   "name": "python",
   "nbconvert_exporter": "python",
   "pygments_lexer": "ipython2",
   "version": "2.7.6"
  }
 },
 "nbformat": 4,
 "nbformat_minor": 5
}
