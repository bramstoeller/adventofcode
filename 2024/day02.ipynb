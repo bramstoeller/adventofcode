{
 "cells": [
  {
   "cell_type": "markdown",
   "source": [
    "<article class=\"day-desc\"><h2>--- Day 2: Red-Nosed Reports ---</h2><p>Fortunately, the first location The Historians want to search isn't a long walk from the Chief Historian's office.</p>\n",
    "<p>While the <a href=\"https://adventofcode.com/2015/day/19\">Red-Nosed Reindeer nuclear fusion/fission plant</a> appears to contain no sign of the Chief Historian, the engineers there run up to you as soon as they see you. Apparently, they <em>still</em> talk about the time Rudolph was saved through molecular synthesis from a single electron.</p>\n",
    "<p>They're quick to add that - since you're already here - they'd really appreciate your help analyzing some unusual data from the Red-Nosed reactor. You turn to check if The Historians are waiting for you, but they seem to have already divided into groups that are currently searching every corner of the facility. You offer to help with the unusual data.</p>\n",
    "<p>The unusual data (your puzzle input) consists of many <em>reports</em>, one report per line. Each report is a list of numbers called <em>levels</em> that are separated by spaces. For example:</p>\n",
    "<pre><code>7 6 4 2 1\n",
    "1 2 7 8 9\n",
    "9 7 6 2 1\n",
    "1 3 2 4 5\n",
    "8 6 4 4 1\n",
    "1 3 6 7 9\n",
    "</code></pre>\n",
    "<p>This example data contains six reports each containing five levels.</p>\n",
    "<p>The engineers are trying to figure out which reports are <em>safe</em>. The Red-Nosed reactor safety systems can only tolerate levels that are either gradually increasing or gradually decreasing. So, a report only counts as safe if both of the following are true:</p>\n",
    "<ul>\n",
    "<li>The levels are either <em>all increasing</em> or <em>all decreasing</em>.</li>\n",
    "<li>Any two adjacent levels differ by <em>at least one</em> and <em>at most three</em>.</li>\n",
    "</ul>\n",
    "<p>In the example above, the reports can be found safe or unsafe by checking those rules:</p>\n",
    "<ul>\n",
    "<li><code>7 6 4 2 1</code>: <em>Safe</em> because the levels are all decreasing by 1 or 2.</li>\n",
    "<li><code>1 2 7 8 9</code>: <em>Unsafe</em> because <code>2 7</code> is an increase of 5.</li>\n",
    "<li><code>9 7 6 2 1</code>: <em>Unsafe</em> because <code>6 2</code> is a decrease of 4.</li>\n",
    "<li><code>1 3 2 4 5</code>: <em>Unsafe</em> because <code>1 3</code> is increasing but <code>3 2</code> is decreasing.</li>\n",
    "<li><code>8 6 4 4 1</code>: <em>Unsafe</em> because <code>4 4</code> is neither an increase or a decrease.</li>\n",
    "<li><code>1 3 6 7 9</code>: <em>Safe</em> because the levels are all increasing by 1, 2, or 3.</li>\n",
    "</ul>\n",
    "<p>So, in this example, <code><em>2</em></code> reports are <em>safe</em>.</p>\n",
    "<p>Analyze the unusual data from the engineers. <em>How many reports are safe?</em></p>\n",
    "</article>"
   ],
   "metadata": {
    "collapsed": false
   },
   "id": "62bfb8f9756f68a1"
  },
  {
   "cell_type": "code",
   "execution_count": 1,
   "outputs": [
    {
     "name": "stdout",
     "output_type": "stream",
     "text": [
      "Example: 2 =? 2\n",
      "Answer: 321\n"
     ]
    }
   ],
   "source": [
    "def is_save_1(report):\n",
    "    values_pairs = zip(report[:-1], report[1:])\n",
    "    if report[0] < report[1]:  # increasing\n",
    "        return all(1 <= b - a <= 3 for a, b in values_pairs)\n",
    "    if report[0] > report[1]:  # decreasing\n",
    "        return all(1 <= a - b <= 3 for a, b in values_pairs)\n",
    "    return False  # stable\n",
    "\n",
    "\n",
    "def parse_report(line):\n",
    "    return [int(x) for x in line.split()]\n",
    "\n",
    "\n",
    "def count_save_reports_1(file_name):\n",
    "    return sum(is_save_1(parse_report(line)) for line in open(file_name, \"r\"))\n",
    "\n",
    "\n",
    "print(\"Example:\", count_save_reports_1(\"data/day02-example.txt\"), \"=? 2\")\n",
    "print(\"Answer:\", count_save_reports_1(\"data/day02-data.txt\"))"
   ],
   "metadata": {
    "collapsed": false,
    "ExecuteTime": {
     "end_time": "2024-12-03T20:07:59.366755592Z",
     "start_time": "2024-12-03T20:07:59.365914333Z"
    }
   },
   "id": "859f4a88f89f4a6e"
  },
  {
   "cell_type": "markdown",
   "source": [
    "<article class=\"day-desc\"><h2 id=\"part2\">--- Part Two ---</h2><p>The engineers are surprised by the low number of safe reports until they realize they forgot to tell you about the <span title=\"I need to get one of these!\">Problem Dampener</span>.</p>\n",
    "<p>The Problem Dampener is a reactor-mounted module that lets the reactor safety systems <em>tolerate a single bad level</em> in what would otherwise be a safe report. It's like the bad level never happened!</p>\n",
    "<p>Now, the same rules apply as before, except if removing a single level from an unsafe report would make it safe, the report instead counts as safe.</p>\n",
    "<p>More of the above example's reports are now safe:</p>\n",
    "<ul>\n",
    "<li><code>7 6 4 2 1</code>: <em>Safe</em> without removing any level.</li>\n",
    "<li><code>1 2 7 8 9</code>: <em>Unsafe</em> regardless of which level is removed.</li>\n",
    "<li><code>9 7 6 2 1</code>: <em>Unsafe</em> regardless of which level is removed.</li>\n",
    "<li><code>1 <em>3</em> 2 4 5</code>: <em>Safe</em> by removing the second level, <code>3</code>.</li>\n",
    "<li><code>8 6 <em>4</em> 4 1</code>: <em>Safe</em> by removing the third level, <code>4</code>.</li>\n",
    "<li><code>1 3 6 7 9</code>: <em>Safe</em> without removing any level.</li>\n",
    "</ul>\n",
    "<p>Thanks to the Problem Dampener, <code><em>4</em></code> reports are actually <em>safe</em>!</p>\n",
    "<p>Update your analysis by handling situations where the Problem Dampener can remove a single level from unsafe reports. <em>How many reports are now safe?</em></p>\n",
    "</article>"
   ],
   "metadata": {
    "collapsed": false
   },
   "id": "9e2bd7f05ae44473"
  },
  {
   "cell_type": "code",
   "execution_count": 2,
   "outputs": [
    {
     "name": "stdout",
     "output_type": "stream",
     "text": [
      "Example: 4 =? \n",
      "Answer: 386\n"
     ]
    }
   ],
   "source": [
    "def is_save_2(report):\n",
    "    return any(is_save_1(report[:i] + report[i + 1:]) for i in range(len(report)))\n",
    "\n",
    "\n",
    "def count_save_reports_2(file_name):\n",
    "    return sum(is_save_2(parse_report(line)) for line in open(file_name, \"r\"))\n",
    "\n",
    "\n",
    "print(\"Example:\", count_save_reports_2(\"data/day02-example.txt\"), \"=? \")\n",
    "print(\"Answer:\", count_save_reports_2(\"data/day02-data.txt\"))"
   ],
   "metadata": {
    "collapsed": false,
    "ExecuteTime": {
     "end_time": "2024-12-03T20:07:59.367722221Z",
     "start_time": "2024-12-03T20:07:59.366325996Z"
    }
   },
   "id": "338dca85494a3bf1"
  }
 ],
 "metadata": {
  "kernelspec": {
   "display_name": "Python 3",
   "language": "python",
   "name": "python3"
  },
  "language_info": {
   "codemirror_mode": {
    "name": "ipython",
    "version": 2
   },
   "file_extension": ".py",
   "mimetype": "text/x-python",
   "name": "python",
   "nbconvert_exporter": "python",
   "pygments_lexer": "ipython2",
   "version": "2.7.6"
  }
 },
 "nbformat": 4,
 "nbformat_minor": 5
}
