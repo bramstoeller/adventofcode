{
 "cells": [
  {
   "cell_type": "markdown",
   "source": [
    "<article class=\"day-desc\"><h2>--- Day 3: Mull It Over ---</h2><p>\"Our computers are having issues, so I have no idea if we have any Chief Historians <span title=\"There's a spot reserved for Chief Historians between the green toboggans and the red toboggans. They've never actually had any Chief Historians in stock, but it's best to be prepared.\">in stock</span>! You're welcome to check the warehouse, though,\" says the mildly flustered shopkeeper at the <a href=\"https://adventofcode.com/2020/day/2\">North Pole Toboggan Rental Shop</a>. The Historians head out to take a look.</p>\n",
    "<p>The shopkeeper turns to you. \"Any chance you can see why our computers are having issues again?\"</p>\n",
    "<p>The computer appears to be trying to run a program, but its memory (your puzzle input) is <em>corrupted</em>. All of the instructions have been jumbled up!</p>\n",
    "<p>It seems like the goal of the program is just to <em>multiply some numbers</em>. It does that with instructions like <code>mul(X,Y)</code>, where <code>X</code> and <code>Y</code> are each 1-3 digit numbers. For instance, <code>mul(44,46)</code> multiplies <code>44</code> by <code>46</code> to get a result of <code>2024</code>. Similarly, <code>mul(123,4)</code> would multiply <code>123</code> by <code>4</code>.</p>\n",
    "<p>However, because the program's memory has been corrupted, there are also many invalid characters that should be <em>ignored</em>, even if they look like part of a <code>mul</code> instruction. Sequences like <code>mul(4*</code>, <code>mul(6,9!</code>, <code>?(12,34)</code>, or <code>mul ( 2 , 4 )</code> do <em>nothing</em>.</p>\n",
    "<p>For example, consider the following section of corrupted memory:</p>\n",
    "<pre><code>x<em>mul(2,4)</em>%&mul[3,7]!@^do_not_<em>mul(5,5)</em>+mul(32,64]then(<em>mul(11,8)mul(8,5)</em>)</code></pre>\n",
    "<p>Only the four highlighted sections are real <code>mul</code> instructions. Adding up the result of each instruction produces <code><em>161</em></code> (<code>2*4 + 5*5 + 11*8 + 8*5</code>).</p>\n",
    "<p>Scan the corrupted memory for uncorrupted <code>mul</code> instructions. <em>What do you get if you add up all of the results of the multiplications?</em></p>\n",
    "</article>"
   ],
   "metadata": {
    "collapsed": false
   },
   "id": "62bfb8f9756f68a1"
  },
  {
   "cell_type": "code",
   "execution_count": 1,
   "outputs": [
    {
     "name": "stdout",
     "output_type": "stream",
     "text": [
      "Example: 161 =? 161\n",
      "Answer: 160672468\n"
     ]
    }
   ],
   "source": [
    "import re\n",
    "\n",
    "PATTERN_1 = re.compile(r\"mul\\((\\d{1,3}),(\\d{1,3})\\)\")\n",
    "\n",
    "\n",
    "def find_mul_instructions_1(file_name):\n",
    "    data = open(file_name, \"r\").read()\n",
    "    for match in PATTERN_1.finditer(data):\n",
    "        yield (int(x) for x in match.groups())\n",
    "\n",
    "\n",
    "def sum_mul_instructions_1(file_name):\n",
    "    return sum(a * b for a, b in find_mul_instructions_1(file_name))\n",
    "\n",
    "\n",
    "print(\"Example:\", sum_mul_instructions_1(\"data/day03-example1.txt\"), \"=? 161\")\n",
    "print(\"Answer:\", sum_mul_instructions_1(\"data/day03-data.txt\"))"
   ],
   "metadata": {
    "collapsed": false,
    "ExecuteTime": {
     "end_time": "2024-12-03T20:08:03.137707390Z",
     "start_time": "2024-12-03T20:08:03.136889590Z"
    }
   },
   "id": "2488e8522c20deb6"
  },
  {
   "cell_type": "markdown",
   "source": [
    "<article class=\"day-desc\"><h2 id=\"part2\">--- Part Two ---</h2><p>As you scan through the corrupted memory, you notice that some of the conditional statements are also still intact. If you handle some of the uncorrupted conditional statements in the program, you might be able to get an even more accurate result.</p>\n",
    "<p>There are two new instructions you'll need to handle:</p>\n",
    "<ul>\n",
    "<li>The <code>do()</code> instruction <em>enables</em> future <code>mul</code> instructions.</li>\n",
    "<li>The <code>don't()</code> instruction <em>disables</em> future <code>mul</code> instructions.</li>\n",
    "</ul>\n",
    "<p>Only the <em>most recent</em> <code>do()</code> or <code>don't()</code> instruction applies. At the beginning of the program, <code>mul</code> instructions are <em>enabled</em>.</p>\n",
    "<p>For example:</p>\n",
    "<pre><code>x<em>mul(2,4)</em>&mul[3,7]!^<em>don't()</em>_mul(5,5)+mul(32,64](mul(11,8)un<em>do()</em>?<em>mul(8,5)</em>)</code></pre>\n",
    "<p>This corrupted memory is similar to the example from before, but this time the <code>mul(5,5)</code> and <code>mul(11,8)</code> instructions are <em>disabled</em> because there is a <code>don't()</code> instruction before them. The other <code>mul</code> instructions function normally, including the one at the end that gets re-<em>enabled</em> by a <code>do()</code> instruction.</p>\n",
    "<p>This time, the sum of the results is <code><em>48</em></code> (<code>2*4 + 8*5</code>).</p>\n",
    "<p>Handle the new instructions; <em>what do you get if you add up all of the results of just the enabled multiplications?</em></p>\n",
    "</article>"
   ],
   "metadata": {
    "collapsed": false
   },
   "id": "e54c4fd0d2c2e76f"
  },
  {
   "cell_type": "code",
   "execution_count": 2,
   "outputs": [
    {
     "name": "stdout",
     "output_type": "stream",
     "text": [
      "Example: 48 ?= 48\n",
      "Answer: 84893551\n"
     ]
    }
   ],
   "source": [
    "import re\n",
    "\n",
    "PATTERN_2 = re.compile(r'(mul\\((\\d{1,3}),(\\d{1,3})\\)|do\\(\\)|don\\'t\\(\\))')\n",
    "\n",
    "\n",
    "def find_mul_instructions_2(file_name):\n",
    "    enabled = True\n",
    "    data = open(file_name, 'r').read()\n",
    "    for match in PATTERN_2.finditer(data):\n",
    "        txt, a, b = match.groups()\n",
    "        if txt == 'do()':\n",
    "            enabled = True\n",
    "        elif txt == 'don\\'t()':\n",
    "            enabled = False\n",
    "        elif enabled:\n",
    "            yield int(a), int(b)\n",
    "\n",
    "\n",
    "def sum_mul_instructions_2(file_name):\n",
    "    return sum(a * b for a, b in find_mul_instructions_2(file_name))\n",
    "\n",
    "\n",
    "print(\"Example:\", sum_mul_instructions_2(\"data/day03-example2.txt\"), \"?= 48\")\n",
    "print(\"Answer:\", sum_mul_instructions_2(\"data/day03-data.txt\"))\n"
   ],
   "metadata": {
    "collapsed": false,
    "ExecuteTime": {
     "end_time": "2024-12-03T20:08:03.138612079Z",
     "start_time": "2024-12-03T20:08:03.137316581Z"
    }
   },
   "id": "be88a979fe11ede0"
  }
 ],
 "metadata": {
  "kernelspec": {
   "display_name": "Python 3",
   "language": "python",
   "name": "python3"
  },
  "language_info": {
   "codemirror_mode": {
    "name": "ipython",
    "version": 2
   },
   "file_extension": ".py",
   "mimetype": "text/x-python",
   "name": "python",
   "nbconvert_exporter": "python",
   "pygments_lexer": "ipython2",
   "version": "2.7.6"
  }
 },
 "nbformat": 4,
 "nbformat_minor": 5
}
