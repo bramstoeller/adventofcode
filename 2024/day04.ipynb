{
 "cells": [
  {
   "cell_type": "markdown",
   "source": [
    "<article class=\"day-desc\"><h2>--- Day 4: Ceres Search ---</h2><p>\"Looks like the Chief's not here. Next!\" One of The Historians pulls out a device and pushes the only button on it. After a brief flash, you recognize the interior of the <a href=\"/2019/day/10\">Ceres monitoring station</a>!</p>\n",
    "<p>As the search for the Chief continues, a small Elf who lives on the station tugs on your shirt; she'd like to know if you could help her with her <em>word search</em> (your puzzle input). She only has to find one word: <code>XMAS</code>.</p>\n",
    "<p>This word search allows words to be horizontal, vertical, diagonal, written backwards, or even overlapping other words. It's a little unusual, though, as you don't merely need to find one instance of <code>XMAS</code> - you need to find <em>all of them</em>. Here are a few ways <code>XMAS</code> might appear, where irrelevant characters have been replaced with <code>.</code>:<p>\n",
    "<pre><code>..X...\n",
    ".SAMX.\n",
    ".A..A.\n",
    "XMAS.S\n",
    ".X....\n",
    "</code></pre>\n",
    "<p>The actual word search will be full of letters instead. For example:</p>\n",
    "<pre><code>MMMSXXMASM\n",
    "MSAMXMSMSA\n",
    "AMXSXMAAMM\n",
    "MSAMASMSMX\n",
    "XMASAMXAMM\n",
    "XXAMMXXAMA\n",
    "SMSMSASXSS\n",
    "SAXAMASAAA\n",
    "MAMMMXMMMM\n",
    "MXMXAXMASX\n",
    "</code></pre>\n",
    "<p>In this word search, <code>XMAS</code> occurs a total of <code><em>18</em></code> times; here's the same word search again, but where letters not involved in any <code>XMAS</code> have been replaced with <code>.</code>:</p>\n",
    "<pre><code>....XXMAS.\n",
    ".SAMXMS...\n",
    "...S..A...\n",
    "..A.A.MS.X\n",
    "XMASAMX.MM\n",
    "X.....XA.A\n",
    "S.S.S.S.SS\n",
    ".A.A.A.A.A\n",
    "..M.M.M.MM\n",
    ".X.X.XMASX\n",
    "</code></pre>\n",
    "<p>Take a look at the little Elf's word search. <em>How many times does <code>XMAS</code> appear?</em></p>\n",
    "</article>"
   ],
   "metadata": {
    "collapsed": false
   },
   "id": "62bfb8f9756f68a1"
  },
  {
   "cell_type": "code",
   "execution_count": 1,
   "outputs": [
    {
     "name": "stdout",
     "output_type": "stream",
     "text": [
      "Example: 18 =? 18\n",
      "Answer: 2517\n"
     ]
    }
   ],
   "source": [
    "def find_occurrences(file_name, needle):\n",
    "    # Read data\n",
    "    data = [line.strip() for line in open(file_name, \"r\").readlines()]\n",
    "\n",
    "    # Find starting point candidates\n",
    "    candidates = []\n",
    "    for y, line in enumerate(data):\n",
    "        candidates += [(x, y) for x, c in enumerate(line) if c == needle[0]]\n",
    "\n",
    "    # Check all eight directions\n",
    "    n = len(needle)\n",
    "    max_x = len(data[0]) - 1\n",
    "    max_y = len(data) - 1\n",
    "    for (x, y) in candidates:\n",
    "        for dy in [-1, 0, 1]:\n",
    "            if y + dy * (n - 1) < 0 or y + dy * (n - 1) > max_y:\n",
    "                continue\n",
    "            for dx in [-1, 0, 1]:\n",
    "                if dx == 0 and dy == 0 or x + dx * (n - 1) < 0 or x + dx * (n - 1) > max_x:\n",
    "                    continue\n",
    "                if all(c == data[y + i * dy][x + i * dx] for i, c in enumerate(needle)):\n",
    "                    yield x, y, dx, dy\n",
    "\n",
    "\n",
    "def count_occurrences(file_name, needle):\n",
    "    return len(list(find_occurrences(file_name, needle)))\n",
    "\n",
    "\n",
    "print(\"Example:\", count_occurrences(\"data/day04-example.txt\", \"XMAS\"), \"=? 18\")\n",
    "print(\"Answer:\", count_occurrences(\"data/day04-data.txt\", \"XMAS\"))"
   ],
   "metadata": {
    "collapsed": false,
    "ExecuteTime": {
     "end_time": "2024-12-04T10:17:58.489977821Z",
     "start_time": "2024-12-04T10:17:58.474791568Z"
    }
   },
   "id": "2488e8522c20deb6"
  },
  {
   "cell_type": "markdown",
   "source": [
    "<article class=\"day-desc\"><h2 id=\"part2\">--- Part Two ---</h2><p>The Elf looks quizzically at you. Did you misunderstand the assignment?</p>\n",
    "<p>Looking for the instructions, you flip over the word search to find that this isn't actually an <code><em>XMAS</em></code> puzzle; it's an <span title=\"This part originally involved searching for something else, but this joke was too dumb to pass up.\"><code><em>X-MAS</em></code></span> puzzle in which you're supposed to find two <code>MAS</code> in the shape of an <code>X</code>. One way to achieve that is like this:</p>\n",
    "<pre><code>M.S\n",
    ".A.\n",
    "M.S\n",
    "</code></pre>\n",
    "<p>Irrelevant characters have again been replaced with <code>.</code> in the above diagram. Within the <code>X</code>, each <code>MAS</code> can be written forwards or backwards.</p>\n",
    "<p>Here's the same example from before, but this time all of the <code>X-MAS</code>es have been kept instead:</p>\n",
    "<pre><code>.M.S......\n",
    "..A..MSMS.\n",
    ".M.S.MAA..\n",
    "..A.ASMSM.\n",
    ".M.S.M....\n",
    "..........\n",
    "S.S.S.S.S.\n",
    ".A.A.A.A..\n",
    "M.M.M.M.M.\n",
    "..........\n",
    "</code></pre>\n",
    "<p>In this example, an <code>X-MAS</code> appears <code><em>9</em></code> times.</p>\n",
    "<p>Flip the word search from the instructions back over to the word search side and try again. <em>How many times does an <code>X-MAS</code> appear?</em></p>\n",
    "</article>"
   ],
   "metadata": {
    "collapsed": false
   },
   "id": "e54c4fd0d2c2e76f"
  },
  {
   "cell_type": "code",
   "execution_count": 2,
   "outputs": [
    {
     "name": "stdout",
     "output_type": "stream",
     "text": [
      "Example: 9 =? 9\n",
      "Answer: 1960\n"
     ]
    }
   ],
   "source": [
    "def find_occurrences_x(file_name, needle):\n",
    "    # Read data\n",
    "    data = [line.strip() for line in open(file_name, \"r\").readlines()]\n",
    "\n",
    "    # Find starting point candidates\n",
    "    n = len(needle) // 2\n",
    "    candidates = []\n",
    "    for y, line in enumerate(data):\n",
    "        candidates += [(x, y) for x, c in enumerate(line) if c == needle[n]]\n",
    "\n",
    "    # Check all four directions\n",
    "    max_x = len(data[0]) - 1\n",
    "    max_y = len(data) - 1\n",
    "    for (x, y) in candidates:\n",
    "        found = 0\n",
    "        for dy in [-1, 1]:\n",
    "            if y - dy * n < 0 or y + dy * n < 0 or y - dy * n > max_y or y + dy * n > max_y:\n",
    "                continue\n",
    "            for dx in [-1, 1]:\n",
    "                if x - dx * n < 0 or x + dx * n < 0 or x - dx * n > max_x or x + dx * n > max_x:\n",
    "                    continue\n",
    "                if all(c == data[y + (i - n) * dy][x + (i - n) * dx] for i, c in enumerate(needle)):\n",
    "                    found += 1\n",
    "        if found == 2:\n",
    "            yield x, y\n",
    "\n",
    "\n",
    "def count_occurrences_x(file_name, needle):\n",
    "    return len(list(find_occurrences_x(file_name, needle)))\n",
    "\n",
    "\n",
    "print(\"Example:\", count_occurrences_x(\"data/day04-example.txt\", \"MAS\"), \"=? 9\")\n",
    "print(\"Answer:\", count_occurrences_x(\"data/day04-data.txt\", \"MAS\"))"
   ],
   "metadata": {
    "collapsed": false,
    "ExecuteTime": {
     "end_time": "2024-12-04T10:17:58.541456431Z",
     "start_time": "2024-12-04T10:17:58.495109022Z"
    }
   },
   "id": "be88a979fe11ede0"
  }
 ],
 "metadata": {
  "kernelspec": {
   "display_name": "Python 3",
   "language": "python",
   "name": "python3"
  },
  "language_info": {
   "codemirror_mode": {
    "name": "ipython",
    "version": 2
   },
   "file_extension": ".py",
   "mimetype": "text/x-python",
   "name": "python",
   "nbconvert_exporter": "python",
   "pygments_lexer": "ipython2",
   "version": "2.7.6"
  }
 },
 "nbformat": 4,
 "nbformat_minor": 5
}
