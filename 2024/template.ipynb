{
 "cells": [
  {
   "cell_type": "markdown",
   "source": [
    "<article class=\"day-desc\"><h2>--- Day 0 ---</h2>\n",
    "</article>"
   ],
   "metadata": {
    "collapsed": false
   },
   "id": "62bfb8f9756f68a1"
  },
  {
   "cell_type": "code",
   "execution_count": null,
   "outputs": [],
   "source": [
    "def fn_1(file_name):\n",
    "    data = open(file_name, \"r\").read()\n",
    "    ...\n",
    "\n",
    "\n",
    "print(\"Example:\", fn_1(\"data/day00-example.txt\"), \"=? #\")\n",
    "print(\"Answer:\", fn_1(\"data/day00-data.txt\"))"
   ],
   "metadata": {
    "collapsed": false
   },
   "id": "2488e8522c20deb6"
  },
  {
   "cell_type": "markdown",
   "source": [
    "<article class=\"day-desc\"><h2 id=\"part2\">--- Part Two ---</h2>\n",
    "</article>"
   ],
   "metadata": {
    "collapsed": false
   },
   "id": "e54c4fd0d2c2e76f"
  },
  {
   "cell_type": "code",
   "execution_count": null,
   "outputs": [],
   "source": [
    "def fn_2(file_name):\n",
    "    data = open(file_name, \"r\").read()\n",
    "    ...\n",
    "\n",
    "\n",
    "print(\"Example:\", fn_2(\"data/day00-example.txt\"), \"=? #\")\n",
    "print(\"Answer:\", fn_2(\"data/day00-data.txt\"))\n"
   ],
   "metadata": {
    "collapsed": false
   },
   "id": "be88a979fe11ede0"
  }
 ],
 "metadata": {
  "kernelspec": {
   "display_name": "Python 3",
   "language": "python",
   "name": "python3"
  },
  "language_info": {
   "codemirror_mode": {
    "name": "ipython",
    "version": 2
   },
   "file_extension": ".py",
   "mimetype": "text/x-python",
   "name": "python",
   "nbconvert_exporter": "python",
   "pygments_lexer": "ipython2",
   "version": "2.7.6"
  }
 },
 "nbformat": 4,
 "nbformat_minor": 5
}
