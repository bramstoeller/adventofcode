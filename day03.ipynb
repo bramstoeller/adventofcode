{
 "cells": [
  {
   "cell_type": "markdown",
   "source": [
    "<pre style=\"white-space: pre-wrap;\">\n",
    "--- Day 3: Mull It Over ---\n",
    "\n",
    "\"Our computers are having issues, so I have no idea if we have any Chief Historians in stock! You're welcome to check the warehouse, though,\" says the mildly flustered shopkeeper at the North Pole Toboggan Rental Shop. The Historians head out to take a look.\n",
    "\n",
    "The shopkeeper turns to you. \"Any chance you can see why our computers are having issues again?\"\n",
    "\n",
    "The computer appears to be trying to run a program, but its memory (your puzzle input) is corrupted. All of the instructions have been jumbled up!\n",
    "\n",
    "It seems like the goal of the program is just to multiply some numbers. It does that with instructions like mul(X,Y), where X and Y are each 1-3 digit numbers. For instance, mul(44,46) multiplies 44 by 46 to get a result of 2024. Similarly, mul(123,4) would multiply 123 by 4.\n",
    "\n",
    "However, because the program's memory has been corrupted, there are also many invalid characters that should be ignored, even if they look like part of a mul instruction. Sequences like mul(4*, mul(6,9!, ?(12,34), or mul ( 2 , 4 ) do nothing.\n",
    "\n",
    "For example, consider the following section of corrupted memory:\n",
    "\n",
    "xmul(2,4)%&mul[3,7]!@^do_not_mul(5,5)+mul(32,64]then(mul(11,8)mul(8,5))\n",
    "Only the four highlighted sections are real mul instructions. Adding up the result of each instruction produces 161 (2*4 + 5*5 + 11*8 + 8*5).\n",
    "\n",
    "Scan the corrupted memory for uncorrupted mul instructions. What do you get if you add up all of the results of the multiplications?\n",
    "</pre>"
   ],
   "metadata": {
    "collapsed": false
   },
   "id": "62bfb8f9756f68a1"
  },
  {
   "cell_type": "code",
   "execution_count": 1,
   "outputs": [
    {
     "name": "stdout",
     "output_type": "stream",
     "text": [
      "161 True\n"
     ]
    }
   ],
   "source": [
    "import re\n",
    "\n",
    "data = \"\"\n",
    "with open('data/day03-example1.txt', 'r') as file:\n",
    "    data = file.read()\n",
    "\n",
    "answer = 0\n",
    "for match in re.finditer(r'mul\\((\\d{1,3}),(\\d{1,3})\\)', data):\n",
    "    a, b = match.groups()\n",
    "    answer += int(a) * int(b)\n",
    "\n",
    "print(answer, answer==161)\n"
   ],
   "metadata": {
    "collapsed": false,
    "ExecuteTime": {
     "end_time": "2024-12-03T10:02:44.253428322Z",
     "start_time": "2024-12-03T10:02:44.249072845Z"
    }
   },
   "id": "2488e8522c20deb6"
  },
  {
   "cell_type": "code",
   "execution_count": 2,
   "outputs": [
    {
     "name": "stdout",
     "output_type": "stream",
     "text": [
      "160672468\n"
     ]
    }
   ],
   "source": [
    "import re\n",
    "\n",
    "data = \"\"\n",
    "with open('data/day03-data.txt', 'r') as file:\n",
    "    data = file.read()\n",
    "\n",
    "answer = 0\n",
    "for match in re.finditer(r'mul\\((\\d{1,3}),(\\d{1,3})\\)', data):\n",
    "    a, b = match.groups()\n",
    "    answer += int(a) * int(b)\n",
    "\n",
    "print(answer)\n"
   ],
   "metadata": {
    "collapsed": false,
    "ExecuteTime": {
     "end_time": "2024-12-03T10:02:44.254236231Z",
     "start_time": "2024-12-03T10:02:44.250880794Z"
    }
   },
   "id": "6df4b64513874918"
  },
  {
   "cell_type": "markdown",
   "source": [
    "<pre style=\"white-space: pre-wrap;\">\n",
    "--- Part Two ---\n",
    "\n",
    "As you scan through the corrupted memory, you notice that some of the conditional statements are also still intact. If you handle some of the uncorrupted conditional statements in the program, you might be able to get an even more accurate result.\n",
    "\n",
    "There are two new instructions you'll need to handle:\n",
    "\n",
    "The do() instruction enables future mul instructions.\n",
    "The don't() instruction disables future mul instructions.\n",
    "Only the most recent do() or don't() instruction applies. At the beginning of the program, mul instructions are enabled.\n",
    "\n",
    "For example:\n",
    "\n",
    "xmul(2,4)&mul[3,7]!^don't()_mul(5,5)+mul(32,64](mul(11,8)undo()?mul(8,5))\n",
    "This corrupted memory is similar to the example from before, but this time the mul(5,5) and mul(11,8) instructions are disabled because there is a don't() instruction before them. The other mul instructions function normally, including the one at the end that gets re-enabled by a do() instruction.\n",
    "\n",
    "This time, the sum of the results is 48 (2*4 + 8*5).\n",
    "\n",
    "Handle the new instructions; what do you get if you add up all of the results of just the enabled multiplications?\n",
    "</pre>"
   ],
   "metadata": {
    "collapsed": false
   },
   "id": "e54c4fd0d2c2e76f"
  },
  {
   "cell_type": "code",
   "execution_count": 3,
   "outputs": [
    {
     "name": "stdout",
     "output_type": "stream",
     "text": [
      "48 True\n"
     ]
    }
   ],
   "source": [
    "import re\n",
    "\n",
    "data = \"\"\n",
    "with open('data/day03-example2.txt', 'r') as file:\n",
    "    data = file.read()\n",
    "\n",
    "answer = 0\n",
    "enabled = True\n",
    "for match in re.finditer(r'(mul\\((\\d{1,3}),(\\d{1,3})\\)|do\\(\\)|don\\'t\\(\\))', data):\n",
    "    txt, a, b = match.groups()\n",
    "    if txt == 'do()':\n",
    "        enabled = True\n",
    "    elif txt == 'don\\'t()':\n",
    "        enabled = False\n",
    "    elif enabled:\n",
    "        answer += int(a) * int(b)\n",
    "\n",
    "print(answer, answer==48)"
   ],
   "metadata": {
    "collapsed": false,
    "ExecuteTime": {
     "end_time": "2024-12-03T10:02:44.254927731Z",
     "start_time": "2024-12-03T10:02:44.251219488Z"
    }
   },
   "id": "be88a979fe11ede0"
  },
  {
   "cell_type": "code",
   "execution_count": 4,
   "outputs": [
    {
     "name": "stdout",
     "output_type": "stream",
     "text": [
      "84893551\n"
     ]
    }
   ],
   "source": [
    "import re\n",
    "\n",
    "data = \"\"\n",
    "with open('data/day03-data.txt', 'r') as file:\n",
    "    data = file.read()\n",
    "\n",
    "answer = 0\n",
    "enabled = True\n",
    "for match in re.finditer(r'(mul\\((\\d{1,3}),(\\d{1,3})\\)|do\\(\\)|don\\'t\\(\\))', data):\n",
    "    txt, a, b = match.groups()\n",
    "    if txt == 'do()':\n",
    "        enabled = True\n",
    "    elif txt == 'don\\'t()':\n",
    "        enabled = False\n",
    "    elif enabled:\n",
    "        answer += int(a) * int(b)\n",
    "\n",
    "print(answer)"
   ],
   "metadata": {
    "collapsed": false,
    "ExecuteTime": {
     "end_time": "2024-12-03T10:02:44.266450905Z",
     "start_time": "2024-12-03T10:02:44.251482074Z"
    }
   },
   "id": "ad911d2ce4d6252c"
  }
 ],
 "metadata": {
  "kernelspec": {
   "display_name": "Python 3",
   "language": "python",
   "name": "python3"
  },
  "language_info": {
   "codemirror_mode": {
    "name": "ipython",
    "version": 2
   },
   "file_extension": ".py",
   "mimetype": "text/x-python",
   "name": "python",
   "nbconvert_exporter": "python",
   "pygments_lexer": "ipython2",
   "version": "2.7.6"
  }
 },
 "nbformat": 4,
 "nbformat_minor": 5
}
