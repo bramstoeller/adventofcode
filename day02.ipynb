{
 "cells": [
  {
   "cell_type": "markdown",
   "source": [
    "<pre style=\"white-space: pre-wrap;\">\n",
    "--- Day 2: Red-Nosed Reports ---\n",
    "\n",
    "Fortunately, the first location The Historians want to search isn't a long walk from the Chief Historian's office.\n",
    "\n",
    "While the Red-Nosed Reindeer nuclear fusion/fission plant appears to contain no sign of the Chief Historian, the engineers there run up to you as soon as they see you. Apparently, they still talk about the time Rudolph was saved through molecular synthesis from a single electron.\n",
    "\n",
    "They're quick to add that - since you're already here - they'd really appreciate your help analyzing some unusual data from the Red-Nosed reactor. You turn to check if The Historians are waiting for you, but they seem to have already divided into groups that are currently searching every corner of the facility. You offer to help with the unusual data.\n",
    "\n",
    "The unusual data (your puzzle input) consists of many reports, one report per line. Each report is a list of numbers called levels that are separated by spaces. For example:\n",
    "\n",
    "7 6 4 2 1\n",
    "1 2 7 8 9\n",
    "9 7 6 2 1\n",
    "1 3 2 4 5\n",
    "8 6 4 4 1\n",
    "1 3 6 7 9\n",
    "This example data contains six reports each containing five levels.\n",
    "\n",
    "The engineers are trying to figure out which reports are safe. The Red-Nosed reactor safety systems can only tolerate levels that are either gradually increasing or gradually decreasing. So, a report only counts as safe if both of the following are true:\n",
    "\n",
    "The levels are either all increasing or all decreasing.\n",
    "Any two adjacent levels differ by at least one and at most three.\n",
    "In the example above, the reports can be found safe or unsafe by checking those rules:\n",
    "\n",
    "7 6 4 2 1: Safe because the levels are all decreasing by 1 or 2.\n",
    "1 2 7 8 9: Unsafe because 2 7 is an increase of 5.\n",
    "9 7 6 2 1: Unsafe because 6 2 is a decrease of 4.\n",
    "1 3 2 4 5: Unsafe because 1 3 is increasing but 3 2 is decreasing.\n",
    "8 6 4 4 1: Unsafe because 4 4 is neither an increase or a decrease.\n",
    "1 3 6 7 9: Safe because the levels are all increasing by 1, 2, or 3.\n",
    "So, in this example, 2 reports are safe.\n",
    "\n",
    "Analyze the unusual data from the engineers. How many reports are safe?\n",
    "</pre>"
   ],
   "metadata": {
    "collapsed": false
   },
   "id": "62bfb8f9756f68a1"
  },
  {
   "cell_type": "code",
   "execution_count": 4,
   "outputs": [
    {
     "name": "stdout",
     "output_type": "stream",
     "text": [
      "2 True\n"
     ]
    }
   ],
   "source": [
    "data = []\n",
    "with open('data/day02-example.txt', 'r') as file:\n",
    "    for line in file:\n",
    "        data.append(int(x) for x in line.strip().split())\n",
    "\n",
    "safe_counter = 0\n",
    "for report in data:\n",
    "    report = list(report)\n",
    "    if report[0] == report[1]:\n",
    "        continue\n",
    "    if report[0] < report[1]:\n",
    "        n = sum(0 < b - a < 4 for a, b in zip(report[:-1], report[1:]))\n",
    "    else:\n",
    "        n = sum(0 < a - b < 4 for a, b in zip(report[:-1], report[1:]))\n",
    "    if n == len(report) - 1:\n",
    "        safe_counter += 1\n",
    "    \n",
    "print(safe_counter, safe_counter == 2)"
   ],
   "metadata": {
    "collapsed": false,
    "ExecuteTime": {
     "end_time": "2024-12-03T09:42:41.021716858Z",
     "start_time": "2024-12-03T09:42:40.979947650Z"
    }
   },
   "id": "859f4a88f89f4a6e"
  },
  {
   "cell_type": "code",
   "execution_count": 10,
   "outputs": [
    {
     "name": "stdout",
     "output_type": "stream",
     "text": [
      "321\n"
     ]
    }
   ],
   "source": [
    "data = []\n",
    "with open('data/day02-data.txt', 'r') as file:\n",
    "    for line in file:\n",
    "        data.append([int(x) for x in line.strip().split()])\n",
    "\n",
    "safe_counter = 0\n",
    "for report in data:\n",
    "    if len(report) < 2 or report[0] == report[1]:\n",
    "        continue\n",
    "    if report[0] < report[1]:\n",
    "        n = sum(0 < b - a < 4 for a, b in zip(report[:-1], report[1:]))\n",
    "    else:\n",
    "        n = sum(0 < a - b < 4 for a, b in zip(report[:-1], report[1:]))\n",
    "    if n == len(report) - 1:\n",
    "        safe_counter += 1\n",
    "    \n",
    "print(safe_counter)"
   ],
   "metadata": {
    "collapsed": false,
    "ExecuteTime": {
     "end_time": "2024-12-03T09:47:14.762063993Z",
     "start_time": "2024-12-03T09:47:14.719005626Z"
    }
   },
   "id": "32cedb047e953c30"
  },
  {
   "cell_type": "markdown",
   "source": [
    "<pre style=\"white-space: pre-wrap;\">\n",
    "--- Part Two ---\n",
    "\n",
    "The engineers are surprised by the low number of safe reports until they realize they forgot to tell you about the Problem Dampener.\n",
    "\n",
    "The Problem Dampener is a reactor-mounted module that lets the reactor safety systems tolerate a single bad level in what would otherwise be a safe report. It's like the bad level never happened!\n",
    "\n",
    "Now, the same rules apply as before, except if removing a single level from an unsafe report would make it safe, the report instead counts as safe.\n",
    "\n",
    "More of the above example's reports are now safe:\n",
    "\n",
    "7 6 4 2 1: Safe without removing any level.\n",
    "1 2 7 8 9: Unsafe regardless of which level is removed.\n",
    "9 7 6 2 1: Unsafe regardless of which level is removed.\n",
    "1 3 2 4 5: Safe by removing the second level, 3.\n",
    "8 6 4 4 1: Safe by removing the third level, 4.\n",
    "1 3 6 7 9: Safe without removing any level.\n",
    "Thanks to the Problem Dampener, 4 reports are actually safe!\n",
    "\n",
    "Update your analysis by handling situations where the Problem Dampener can remove a single level from unsafe reports. How many reports are now safe?\n",
    "</pre>"
   ],
   "metadata": {
    "collapsed": false
   },
   "id": "9e2bd7f05ae44473"
  },
  {
   "cell_type": "code",
   "execution_count": 11,
   "outputs": [
    {
     "name": "stdout",
     "output_type": "stream",
     "text": [
      "4 True\n"
     ]
    }
   ],
   "source": [
    "data = []\n",
    "with open('data/day02-example.txt', 'r') as file:\n",
    "    for line in file:\n",
    "        data.append([int(x) for x in line.strip().split()])\n",
    "\n",
    "safe_counter = 0\n",
    "for original_report in data:\n",
    "    for i in range (len(original_report)):\n",
    "        report = original_report.copy()\n",
    "        report.pop(i)\n",
    "        if report[0] == report[1]:\n",
    "            continue\n",
    "        if report[0] < report[1]:\n",
    "            n = sum(0 < b - a < 4 for a, b in zip(report[:-1], report[1:]))\n",
    "        else:\n",
    "            n = sum(0 < a - b < 4 for a, b in zip(report[:-1], report[1:]))\n",
    "        if n == len(report) - 1:\n",
    "            safe_counter += 1\n",
    "            break\n",
    "    \n",
    "print(safe_counter, safe_counter == 4)"
   ],
   "metadata": {
    "collapsed": false,
    "ExecuteTime": {
     "end_time": "2024-12-03T09:47:17.934084039Z",
     "start_time": "2024-12-03T09:47:17.920240879Z"
    }
   },
   "id": "338dca85494a3bf1"
  },
  {
   "cell_type": "code",
   "execution_count": 12,
   "outputs": [
    {
     "name": "stdout",
     "output_type": "stream",
     "text": [
      "386 False\n"
     ]
    }
   ],
   "source": [
    "data = []\n",
    "with open('data/day02-data.txt', 'r') as file:\n",
    "    for line in file:\n",
    "        data.append([int(x) for x in line.strip().split()])\n",
    "\n",
    "safe_counter = 0\n",
    "for original_report in data:\n",
    "    for i in range (len(original_report)):\n",
    "        report = original_report.copy()\n",
    "        report.pop(i)\n",
    "        if report[0] == report[1]:\n",
    "            continue\n",
    "        if report[0] < report[1]:\n",
    "            n = sum(0 < b - a < 4 for a, b in zip(report[:-1], report[1:]))\n",
    "        else:\n",
    "            n = sum(0 < a - b < 4 for a, b in zip(report[:-1], report[1:]))\n",
    "        if n == len(report) - 1:\n",
    "            safe_counter += 1\n",
    "            break\n",
    "    \n",
    "print(safe_counter, safe_counter == 4)"
   ],
   "metadata": {
    "collapsed": false,
    "ExecuteTime": {
     "end_time": "2024-12-03T09:47:25.386813813Z",
     "start_time": "2024-12-03T09:47:25.363484382Z"
    }
   },
   "id": "7aee2005d07400f5"
  }
 ],
 "metadata": {
  "kernelspec": {
   "display_name": "Python 3",
   "language": "python",
   "name": "python3"
  },
  "language_info": {
   "codemirror_mode": {
    "name": "ipython",
    "version": 2
   },
   "file_extension": ".py",
   "mimetype": "text/x-python",
   "name": "python",
   "nbconvert_exporter": "python",
   "pygments_lexer": "ipython2",
   "version": "2.7.6"
  }
 },
 "nbformat": 4,
 "nbformat_minor": 5
}
